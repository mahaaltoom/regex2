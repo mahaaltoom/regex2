{
  "cells": [
    {
      "cell_type": "markdown",
      "metadata": {
        "id": "f5bzsn85VKbx"
      },
      "source": [
        "# Exercise: Regular Expressions"
      ]
    },
    {
      "cell_type": "code",
      "execution_count": 2,
      "metadata": {
        "id": "8fEA4pikVKb1"
      },
      "outputs": [],
      "source": [
        "import re"
      ]
    },
    {
      "cell_type": "code",
      "execution_count": null,
      "metadata": {
        "id": "i4IFPtnsVKb3",
        "outputId": "7733558b-ad7b-41a7-8fb7-b087d6d75ec8"
      },
      "outputs": [
        {
          "name": "stdout",
          "output_type": "stream",
          "text": [
            "Username: john\n",
            "Mailserver: email\n",
            "Domain: com\n",
            "\n",
            "Username: mary\n",
            "Mailserver: otherplace\n",
            "Domain: net\n",
            "\n",
            "Username: support\n",
            "Mailserver: ourcompany\n",
            "Domain: co\n",
            "\n"
          ]
        }
      ],
      "source": [
        "#1 Question: Match all email addresses (SOLVED)\n",
        "\n",
        "inputs = [\"My email is john@email.com and mary@otherplace.net\",\n",
        "          \"Visit us at support@ourcompany.co.uk for help\",\n",
        "          \"No emails here\"]\n",
        "\n",
        "pattern = r\"(\\w+)@(\\w+)\\.(\\w+)\"\n",
        "\n",
        "matches = []\n",
        "for input in inputs:\n",
        "    matches += re.findall(pattern, input)\n",
        "\n",
        "for m in matches:\n",
        "    username = m[0]\n",
        "    mailserver = m[1]\n",
        "    domain = m[2]\n",
        "    print(f\"Username: {username}\")\n",
        "    print(f\"Mailserver: {mailserver}\")\n",
        "    print(f\"Domain: {domain}\")\n",
        "    print('')"
      ]
    },
    {
      "cell_type": "code",
      "execution_count": 10,
      "metadata": {
        "colab": {
          "base_uri": "https://localhost:8080/"
        },
        "id": "J41OpjV6VKb4",
        "outputId": "a653214d-76c6-4130-bf57-e34a2e66bcc9"
      },
      "outputs": [
        {
          "output_type": "stream",
          "name": "stdout",
          "text": [
            "Domin: com\n",
            "\n",
            "Domin: com\n",
            "\n",
            "Domin: co\n",
            "\n"
          ]
        }
      ],
      "source": [
        "#2 Question: Extract domain from email\n",
        "\n",
        "inputs = [\"john@email.com\",\n",
        "          \"mary+newsletter@gmail.com\",\n",
        "          \"support@ourcompany.co.uk\"]\n",
        "patren = r\"@(\\w+)\\.(\\w+)\"\n",
        "\n",
        "matches = []\n",
        "for input in inputs:\n",
        "    matches += re.findall(patren, input)\n",
        "\n",
        "\n",
        "for m in matches:\n",
        "\n",
        "    domin3 = m[1]\n",
        "    print(f\"Domin: {domin3}\")\n",
        "    print('')\n",
        "\n",
        "\n"
      ]
    },
    {
      "cell_type": "code",
      "execution_count": 25,
      "metadata": {
        "colab": {
          "base_uri": "https://localhost:8080/"
        },
        "id": "XlzNS4ErVKb5",
        "outputId": "b5559561-a77c-42d3-95e8-fcaca9672ff3"
      },
      "outputs": [
        {
          "output_type": "stream",
          "name": "stdout",
          "text": [
            "555-123-4567 is a valid.\n",
            "1 (234) 567-8910 is a valid.\n",
            "notaphonenumber is not a valid .\n"
          ]
        }
      ],
      "source": [
        "from traitlets.traitlets import validate\n",
        "#3 Question: Validate phone number\n",
        "\n",
        "inputs = [\"555-123-4567\",\n",
        "          \"1 (234) 567-8910\",\n",
        "          \"notaphonenumber\"]\n",
        "\n",
        "patren= r'^\\d{3}-\\d{3}-\\d{4}$|^\\d{1}\\s?\\(\\d{3}\\)\\s?\\d{3}-\\d{4}$'\n",
        "# Function to validate a phone number\n",
        "def Validate_phone_number(i):\n",
        "    return re.match(patren, i)\n",
        "\n",
        "# Validate the phone numbers and print the results\n",
        "for i in inputs:\n",
        "    if Validate_phone_number(i):\n",
        "        print(f\"{i} is a valid.\")\n",
        "    else:\n",
        "        print(f\"{i} is not a valid .\")\n"
      ]
    },
    {
      "cell_type": "code",
      "execution_count": 27,
      "metadata": {
        "colab": {
          "base_uri": "https://localhost:8080/"
        },
        "id": "eeAX9qBYVKb5",
        "outputId": "56b9c067-001a-4428-dc71-64d2a0c611f5"
      },
      "outputs": [
        {
          "output_type": "stream",
          "name": "stdout",
          "text": [
            "Area code in (555) 123-4567: (555)\n",
            "Area code in 1 (234) 567-8910: (234)\n",
            "Area code in 5551234567: 555\n"
          ]
        }
      ],
      "source": [
        "#4 Question: Extract area code\n",
        "\n",
        "inputs = [\"(555) 123-4567\",\n",
        "          \"1 (234) 567-8910\",\n",
        "          \"5551234567\"]\n",
        "\n",
        "pattern = r'\\(?\\d{3}\\)?'\n",
        "def extract_area (i):\n",
        "    match = re.search(pattern, i)\n",
        "    if match:\n",
        "        return match.group()\n",
        "    else:\n",
        "        return None\n",
        "\n",
        "\n",
        "for i in inputs:\n",
        "    area_code = extract_area (i)\n",
        "    if area_code:\n",
        "        print(f\"Area code in {i}: {area_code}\")\n",
        "    else:\n",
        "        print(f\"No area code found in {i}\")\n",
        "\n"
      ]
    },
    {
      "cell_type": "code",
      "source": [],
      "metadata": {
        "id": "UgPxFlm5orRc"
      },
      "execution_count": null,
      "outputs": []
    },
    {
      "cell_type": "code",
      "execution_count": 8,
      "metadata": {
        "colab": {
          "base_uri": "https://localhost:8080/"
        },
        "id": "MZtXysumVKb6",
        "outputId": "a260ad9b-9f0a-470d-cdaa-f36ccbc56650"
      },
      "outputs": [
        {
          "output_type": "stream",
          "name": "stdout",
          "text": [
            "Hosts in 'Visit https://www.example.com for more info': example.com\n",
            "No hosts found in 'Our website is example.com'\n",
            "No hosts found in 'No URLs here'\n"
          ]
        }
      ],
      "source": [
        "#5 Question: Match URLs and extract host\n",
        "\n",
        "inputs = [\"Visit https://www.example.com for more info\",\n",
        "          \"Our website is example.com\",\n",
        "          \"No URLs here\"]\n",
        "\n",
        "\n",
        "pattern = r'https?://\\S+|www\\.\\S+'\n",
        "\n",
        "# Function to extract hosts from a URL\n",
        "def Extract_URls(i):\n",
        "    matches = re.findall( pattern , i)\n",
        "    hosts = []\n",
        "    for match in matches:\n",
        "        # Check if the URL starts with \"www.\"\n",
        "        if match.startswith(\"www.\"):\n",
        "            host = match[4:]\n",
        "        else:\n",
        "            host = re.sub(r'https?://|www\\.', '', match)\n",
        "        hosts.append(host)\n",
        "    return hosts\n",
        "\n",
        "# Extract and print the hosts from the text\n",
        "for i in inputs:\n",
        "    hosts = Extract_URls(i)\n",
        "    if hosts:\n",
        "        print(f\"Hosts in '{i}': {', '.join(hosts)}\")\n",
        "    else:\n",
        "        print(f\"No hosts found in '{i}'\")\n",
        "\n"
      ]
    },
    {
      "cell_type": "code",
      "execution_count": 9,
      "metadata": {
        "colab": {
          "base_uri": "https://localhost:8080/"
        },
        "id": "eMMUiPXrVKb6",
        "outputId": "13e42510-befa-4e30-be81-6ea3ba18ad97"
      },
      "outputs": [
        {
          "output_type": "stream",
          "name": "stdout",
          "text": [
            "Original: Hello world!, Cleaned: Helloworld\n",
            "Original: 123 Main St., Cleaned: MainSt\n",
            "Original: greetings&more, Cleaned: greetingsmore\n"
          ]
        }
      ],
      "source": [
        "#6 Question: Remove non-alphabetic characters\n",
        "\n",
        "inputs = [\"Hello world!\",\n",
        "          \"123 Main St.\",\n",
        "          \"greetings&more\"]\n",
        "\n",
        "def remove_non_alphabetic(inputs):\n",
        "    return re.sub(r'[^A-Za-z]+', '', inputs)\n",
        "\n",
        "# Remove non-alphabetic characters from each input string and print the results\n",
        "for inputs in inputs:\n",
        "    cleaned_string = remove_non_alphabetic(inputs)\n",
        "    print(f\"Original: {inputs}, Cleaned: {cleaned_string}\")"
      ]
    },
    {
      "cell_type": "code",
      "execution_count": 16,
      "metadata": {
        "colab": {
          "base_uri": "https://localhost:8080/"
        },
        "id": "L29XmD09VKb7",
        "outputId": "9f62a3ea-6b49-4846-947e-9ac0839a582e"
      },
      "outputs": [
        {
          "output_type": "stream",
          "name": "stdout",
          "text": [
            "Words with 'tion' in 'This is a test sentence with the word station in it.': station\n",
            "Words with 'tion' in 'No words containing tion here': tion\n",
            "Words with 'tion' in 'motion activation vacation': motion, activation, vacation\n"
          ]
        }
      ],
      "source": [
        "#7 Question: Find words containing \"tion\"\n",
        "\n",
        "inputs = [\"This is a test sentence with the word station in it.\",\n",
        "          \"No words containing tion here\",\n",
        "          \"motion activation vacation\"]\n",
        "\n",
        "def find_words_with_tion(sentence):\n",
        "    words = sentence.split()\n",
        "    tion_words = [word for word in words if \"tion\" in word]\n",
        "    return tion_words\n",
        "\n",
        "# Find and print words containing \"tion\" in each sentence\n",
        "for sentence in inputs:\n",
        "    tion_words = find_words_with_tion(sentence)\n",
        "    if tion_words:\n",
        "        print(f\"Words with 'tion' in '{sentence}': {', '.join(tion_words)}\")\n",
        "    else:\n",
        "        print(f\"No words with 'tion' found in '{sentence}'\")"
      ]
    },
    {
      "cell_type": "code",
      "execution_count": 22,
      "metadata": {
        "colab": {
          "base_uri": "https://localhost:8080/"
        },
        "id": "jMDTwDhqVKb7",
        "outputId": "38c89119-f929-4898-fb2b-4ff610fc4090"
      },
      "outputs": [
        {
          "output_type": "stream",
          "name": "stdout",
          "text": [
            "Original: hello world, Replaced: goodbye world\n",
            "Original: hello there, Replaced: goodbye there\n",
            "Original: no match, Replaced: no match\n"
          ]
        }
      ],
      "source": [
        "#8 Question: Replace all occurrences of \"hello\" with \"goodbye\"\n",
        "\n",
        "inputs = [\"hello world\", \"hello there\", \"no match\"]\n",
        "\n",
        "# Function to replace \"hello\" with \"goodbye\" in a string\n",
        "def replace_hello_with_goodbye(i):\n",
        "    return i.replace(\"hello\", \"goodbye\")\n",
        "\n",
        "# Replace \"hello\" with \"goodbye\" in each input string and print the results\n",
        "for i in inputs:\n",
        "    replaced_string = replace_hello_with_goodbye(i)\n",
        "    print(f\"Original: {i}, Replaced: {replaced_string}\")\n",
        " # your code here ...:"
      ]
    },
    {
      "cell_type": "code",
      "execution_count": 24,
      "metadata": {
        "colab": {
          "base_uri": "https://localhost:8080/"
        },
        "id": "J1TPAkUIVKb7",
        "outputId": "717f12c8-119f-4ae9-d595-7acbe79c851b"
      },
      "outputs": [
        {
          "output_type": "stream",
          "name": "stdout",
          "text": [
            "ISO 8601 dates in 'Log from 2023-01-15': \n",
            "ISO 8601 dates in 'Meeting on 2023-02-01T13:00:00Z': T13:00:00Z\n",
            "No ISO 8601 dates found in 'No dates'\n"
          ]
        }
      ],
      "source": [
        "#9 Question: Extract date strings in ISO8601 format\n",
        "\n",
        "inputs = [\"Log from 2023-01-15\",\n",
        "          \"Meeting on 2023-02-01T13:00:00Z\",\n",
        "          \"No dates\"]\n",
        "# Define a regex pattern to match ISO 8601 dates\n",
        "pattern = r'\\d{4}-\\d{2}-\\d{2}(T\\d{2}:\\d{2}:\\d{2}Z)?'\n",
        "\n",
        "# Function to extract ISO 8601 dates from text\n",
        "def extract_dates(text):\n",
        "    return re.findall(pattern, text)\n",
        "\n",
        "# Extract and print ISO 8601 dates from the text\n",
        "for text in inputs:\n",
        "    iso_dates = extract_dates(text)\n",
        "    if iso_dates:\n",
        "        print(f\"ISO 8601 dates in '{text}': {', '.join(iso_dates)}\")\n",
        "    else:\n",
        "        print(f\"No ISO 8601 dates found in '{text}'\")\n",
        "\n"
      ]
    },
    {
      "cell_type": "code",
      "execution_count": 28,
      "metadata": {
        "colab": {
          "base_uri": "https://localhost:8080/"
        },
        "id": "afzseyFZVKb8",
        "outputId": "453f4ef9-5deb-4c1d-ce0f-7a584d8e03f8"
      },
      "outputs": [
        {
          "output_type": "stream",
          "name": "stdout",
          "text": [
            "'2023-01-15' is a correctly formatted ISO date.\n",
            "'02/01/2023' is not a correctly formatted  date.\n",
            "'invalid date' is not a correctly formatted  date.\n"
          ]
        }
      ],
      "source": [
        "#10 Question: Validate correctly formatted date\n",
        "from datetime import datetime\n",
        "\n",
        "inputs = [\"2023-01-15\",\n",
        "          \"02/01/2023\",\n",
        "          \"invalid date\"]\n",
        "\n",
        "\n",
        "def validate_iso8601_date(date_str):\n",
        "    try:\n",
        "        # Attempt to parse the date using the datetime module\n",
        "        datetime.strptime(date_str, \"%Y-%m-%d\")\n",
        "        return True\n",
        "    except ValueError:\n",
        "        return False\n",
        "\n",
        "# Validate the date strings and print the results\n",
        "for date_str in inputs:\n",
        "    is_valid = validate_iso8601_date(date_str)\n",
        "    if is_valid:\n",
        "        print(f\"'{date_str}' is a correctly formatted ISO date.\")\n",
        "    else:\n",
        "        print(f\"'{date_str}' is not a correctly formatted  date.\")"
      ]
    },
    {
      "cell_type": "code",
      "execution_count": 29,
      "metadata": {
        "colab": {
          "base_uri": "https://localhost:8080/"
        },
        "id": "Jch3Jyx4VKb8",
        "outputId": "897b11dc-0e9c-440b-fd71-d23f6833c576"
      },
      "outputs": [
        {
          "output_type": "stream",
          "name": "stdout",
          "text": [
            "Original: Hello! World?, Cleaned: Hello World\n",
            "Original: 123-Main_St., Cleaned: 123-MainSt\n",
            "Original: Hi there., Cleaned: Hi there\n"
          ]
        }
      ],
      "source": [
        "#11 Question: Remove punctuation except hyphens\n",
        "import string\n",
        "inputs = [\"Hello! World?\",\n",
        "          \"123-Main_St.\",\n",
        "          \"Hi there.\"]\n",
        "\n",
        "# Function to remove punctuation except hyphens from a string\n",
        "def remove_punctuation_except_hyphens(input_string):\n",
        "# Define the set of punctuation characters\n",
        "    punctuation_to_remove = set(string.punctuation) - set(\"-\")\n",
        "\n",
        "# Remove the specified punctuation characters\n",
        "    cleaned_string = ''.join(char for char in input_string if char not in punctuation_to_remove)\n",
        "\n",
        "    return cleaned_string\n",
        "\n",
        "# Remove punctuation except hyphens from each input string and print the results\n",
        "for input_string in inputs:\n",
        "    cleaned_string = remove_punctuation_except_hyphens(input_string)\n",
        "    print(f\"Original: {input_string}, Cleaned: {cleaned_string}\")"
      ]
    },
    {
      "cell_type": "code",
      "execution_count": 30,
      "metadata": {
        "colab": {
          "base_uri": "https://localhost:8080/"
        },
        "id": "pAarwmsDVKb8",
        "outputId": "8a9ca24e-be5d-4cfc-f6f9-54b542a96ef5"
      },
      "outputs": [
        {
          "output_type": "stream",
          "name": "stdout",
          "text": [
            "'hello' appears 2 times in 'Hello world. Hello!'\n",
            "'hello' appears 2 times in 'Hello hello world'\n",
            "'hello' appears 0 times in 'no match'\n"
          ]
        }
      ],
      "source": [
        "#12 Question: Count occurrences of a word\n",
        "\n",
        "inputs = [\"Hello world. Hello!\",\n",
        "          \"Hello hello world\",\n",
        "          \"no match\"]\n",
        "def count_word_occurrences(input_string, word):\n",
        "    return input_string.lower().count(word.lower())\n",
        "\n",
        "# Word to search for\n",
        "search_word = \"hello\"\n",
        "\n",
        "# Count occurrences of the word in each input string and print the results\n",
        "for input_string in inputs:\n",
        "    word_count = count_word_occurrences(input_string, search_word)\n",
        "    print(f\"'{search_word}' appears {word_count} times in '{input_string}'\")\n",
        "\n"
      ]
    },
    {
      "cell_type": "code",
      "execution_count": 31,
      "metadata": {
        "colab": {
          "base_uri": "https://localhost:8080/"
        },
        "id": "BlyCa8EiVKb8",
        "outputId": "4b48a436-c035-4fcd-ee50-abc29350abf4"
      },
      "outputs": [
        {
          "output_type": "stream",
          "name": "stdout",
          "text": [
            "IP addresses in '127.0.0.1 - GET /': 127.0.0.1\n",
            "IP addresses in 'User logged in from 192.168.1.1': 192.168.1.1\n",
            "No IP addresses found in 'No IPs'\n"
          ]
        }
      ],
      "source": [
        "#13 Question: Extract IP addresses from log\n",
        "\n",
        "inputs = [\"127.0.0.1 - GET /\",\n",
        "          \"User logged in from 192.168.1.1\",\n",
        "          \"No IPs\"]\n",
        "\n",
        "pattern = r'\\b(?:\\d{1,3}\\.){3}\\d{1,3}\\b'\n",
        "\n",
        "# Function to extract IP addresses from a log entry\n",
        "def extract_ip_addresses(i):\n",
        "    return re.findall(pattern, i)\n",
        "\n",
        "# Extract and print IP addresses from the log entries\n",
        "for i in inputs:\n",
        "    ip_addresses = extract_ip_addresses(i)\n",
        "    if ip_addresses:\n",
        "        print(f\"IP addresses in '{i}': {', '.join(ip_addresses)}\")\n",
        "    else:\n",
        "        print(f\"No IP addresses found in '{i}'\")"
      ]
    },
    {
      "cell_type": "code",
      "execution_count": 32,
      "metadata": {
        "colab": {
          "base_uri": "https://localhost:8080/"
        },
        "id": "pkz8DnVsVKb8",
        "outputId": "60eaff58-6d7b-463c-92fa-03600ad1a66b"
      },
      "outputs": [
        {
          "output_type": "stream",
          "name": "stdout",
          "text": [
            "Original: Visa: 4111-1111-1111-1111, Redacted: Visa: XXXX-XXXX-XXXX-XXXX\n",
            "Original: My SSN is 111-11-1111, Redacted: My SSN is XXX-XX-XXXX\n",
            "Original: No numbers, Redacted: No numbers\n"
          ]
        }
      ],
      "source": [
        "#14 Question: Redact credit card and SSN numbers\n",
        "\n",
        "inputs = [\"Visa: 4111-1111-1111-1111\",\n",
        "          \"My SSN is 111-11-1111\",\n",
        "          \"No numbers\"]\n",
        "def redact_sensitive_data(input_string):\n",
        "    # Redact credit card numbers\n",
        "    input_string = re.sub(r'\\b(\\d{4}-\\d{4}-\\d{4}-\\d{4})\\b', 'XXXX-XXXX-XXXX-XXXX', input_string)\n",
        "\n",
        "    # Redact SSNs\n",
        "    input_string = re.sub(r'\\b(\\d{3}-\\d{2}-\\d{4})\\b', 'XXX-XX-XXXX', input_string)\n",
        "\n",
        "    return input_string\n",
        "\n",
        "# Redact credit card numbers and SSNs in each input string and print the results\n",
        "for input_string in inputs:\n",
        "    redacted_string = redact_sensitive_data(input_string)\n",
        "    print(f\"Original: {input_string}, Redacted: {redacted_string}\")\n",
        "\n"
      ]
    }
  ],
  "metadata": {
    "kernelspec": {
      "display_name": "ds",
      "language": "python",
      "name": "python3"
    },
    "language_info": {
      "codemirror_mode": {
        "name": "ipython",
        "version": 3
      },
      "file_extension": ".py",
      "mimetype": "text/x-python",
      "name": "python",
      "nbconvert_exporter": "python",
      "pygments_lexer": "ipython3",
      "version": "3.9.18"
    },
    "colab": {
      "provenance": []
    }
  },
  "nbformat": 4,
  "nbformat_minor": 0
}